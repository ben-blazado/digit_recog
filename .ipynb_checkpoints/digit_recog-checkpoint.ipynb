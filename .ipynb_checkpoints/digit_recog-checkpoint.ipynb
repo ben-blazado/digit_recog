{
 "cells": [
  {
   "cell_type": "code",
   "execution_count": 1,
   "metadata": {
    "scrolled": true
   },
   "outputs": [
    {
     "name": "stderr",
     "output_type": "stream",
     "text": [
      "W0805 15:14:52.831809  5600 deprecation_wrapper.py:119] From C:\\ProgramData\\Anaconda3\\envs\\digit_recog\\lib\\site-packages\\tflearn\\helpers\\summarizer.py:9: The name tf.summary.merge is deprecated. Please use tf.compat.v1.summary.merge instead.\n",
      "\n",
      "W0805 15:14:52.832807  5600 deprecation_wrapper.py:119] From C:\\ProgramData\\Anaconda3\\envs\\digit_recog\\lib\\site-packages\\tflearn\\helpers\\trainer.py:25: The name tf.summary.FileWriter is deprecated. Please use tf.compat.v1.summary.FileWriter instead.\n",
      "\n",
      "W0805 15:14:52.840786  5600 deprecation_wrapper.py:119] From C:\\ProgramData\\Anaconda3\\envs\\digit_recog\\lib\\site-packages\\tflearn\\collections.py:13: The name tf.GraphKeys is deprecated. Please use tf.compat.v1.GraphKeys instead.\n",
      "\n",
      "W0805 15:14:52.844774  5600 deprecation_wrapper.py:119] From C:\\ProgramData\\Anaconda3\\envs\\digit_recog\\lib\\site-packages\\tflearn\\config.py:123: The name tf.get_collection is deprecated. Please use tf.compat.v1.get_collection instead.\n",
      "\n",
      "W0805 15:14:52.848764  5600 deprecation_wrapper.py:119] From C:\\ProgramData\\Anaconda3\\envs\\digit_recog\\lib\\site-packages\\tflearn\\config.py:129: The name tf.add_to_collection is deprecated. Please use tf.compat.v1.add_to_collection instead.\n",
      "\n",
      "W0805 15:14:52.849761  5600 deprecation_wrapper.py:119] From C:\\ProgramData\\Anaconda3\\envs\\digit_recog\\lib\\site-packages\\tflearn\\config.py:131: The name tf.assign is deprecated. Please use tf.compat.v1.assign instead.\n",
      "\n"
     ]
    },
    {
     "name": "stdout",
     "output_type": "stream",
     "text": [
      "curses is not supported on this machine (please install/reinstall curses for an optimal experience)\n"
     ]
    }
   ],
   "source": [
    "#--- supress warnings displayed during imports\n",
    "\n",
    "#--- ref: https://stackoverflow.com/questions/14463277/how-to-disable-python-warnings\n",
    "import warnings\n",
    "with warnings.catch_warnings():\n",
    "    warnings.filterwarnings(\"ignore\",category=DeprecationWarning)\n",
    "\n",
    "#--- ref: https://github.com/abseil/abseil-py/issues/103\n",
    "from absl import logging\n",
    "logging._warn_preinit_stderr = 0\n",
    "\n",
    "from mnist_datasets import MNISTDatasets\n",
    "from mnist_digit_recog import MNISTDigitRecog\n",
    "import matplotlib.pyplot as plt\n",
    "%matplotlib inline\n",
    "\n",
    "#--- displays the 28x28 image and one-hot-encoded representation of a handwritten digit\n",
    "def display_digit(digit, categories):\n",
    "    plt.title('Image (28x28) \\nLabel({}) {}'.format(categories.argmax(), categories))\n",
    "    plt.imshow(digit, cmap='gray_r')\n",
    "    plt.show()\n",
    "    \n",
    "    return\n",
    "\n",
    "#--- picks a random digit to display\n",
    "def display_random_digit(mn):\n",
    "    digit, categories = mn.get_random_digit()\n",
    "    display_digit(digit, categories)\n",
    "    \n",
    "    return\n",
    "\n",
    "#--- plot accuracy of neural network training\n",
    "def plot_training_history(accuracies):\n",
    "    _, ax = plt.subplots()\n",
    "    ax.set(xlabel='epoch', ylabel='accuracy', title='Training History')\n",
    "    ax.plot([i for i in range(len(accuracies))], accuracies)\n",
    "    plt.show()\n",
    "    \n",
    "    return\n"
   ]
  },
  {
   "cell_type": "code",
   "execution_count": null,
   "metadata": {},
   "outputs": [],
   "source": [
    "#--- create the object, mn, that contains the MNIST training and testing datasets\n",
    "mn = MNISTDatasets()"
   ]
  },
  {
   "cell_type": "code",
   "execution_count": null,
   "metadata": {},
   "outputs": [],
   "source": [
    "#--- display a random digit to view \n",
    "display_random_digit (mn)"
   ]
  },
  {
   "cell_type": "code",
   "execution_count": null,
   "metadata": {},
   "outputs": [],
   "source": [
    "#--- create the neural network, dr, that will learn to recognize the handwritten digits from mn\n",
    "dr = MNISTDigitRecog(mn)"
   ]
  },
  {
   "cell_type": "code",
   "execution_count": null,
   "metadata": {},
   "outputs": [],
   "source": [
    "#--- train the neural network\n",
    "dr.train(n_epoch=100)"
   ]
  },
  {
   "cell_type": "code",
   "execution_count": null,
   "metadata": {},
   "outputs": [],
   "source": [
    "#--- view the training history to examine how the neural network's recognition accuracy increases over each epoch\n",
    "plot_training_history(dr.accuracies)"
   ]
  },
  {
   "cell_type": "code",
   "execution_count": null,
   "metadata": {},
   "outputs": [],
   "source": [
    "#--- give random handwritten digits from the testing dataset from the neural network to identify\n",
    "\n",
    "for _ in range(10):\n",
    "    digit, categories = mn.get_random_digit([mn.testing_images])\n",
    "    display_digit(digit, categories)\n",
    "    \n",
    "    #--- try to identify the digit\n",
    "    number = dr.identify(digit)\n",
    "    print (\"The neural network thinks the image above lookes like the number {}.\".format(number))\n",
    "    if number == categories.argmax():\n",
    "        print (\"The neural network identified the image CORRECTLY!\")\n",
    "    else:\n",
    "        print (\"The neural network was WRONG for this image!\")\n",
    "    print (\"\")\n"
   ]
  }
 ],
 "metadata": {
  "kernelspec": {
   "display_name": "Python 3",
   "language": "python",
   "name": "python3"
  },
  "language_info": {
   "codemirror_mode": {
    "name": "ipython",
    "version": 3
   },
   "file_extension": ".py",
   "mimetype": "text/x-python",
   "name": "python",
   "nbconvert_exporter": "python",
   "pygments_lexer": "ipython3",
   "version": "3.7.1"
  }
 },
 "nbformat": 4,
 "nbformat_minor": 2
}
